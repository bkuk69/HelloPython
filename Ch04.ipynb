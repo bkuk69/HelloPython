{
  "cells": [
    {
      "metadata": {
        "trusted": true
      },
      "cell_type": "code",
      "source": "age = int(input(\"나이를 입력하세요.\"))\nprint(\"올해 나이는 \" + str(age) + \"세 입니다.\")\nprint(\"내년의 나이는 \" + str(age+1) +\"세 입니다.\")",
      "execution_count": 3,
      "outputs": [
        {
          "output_type": "stream",
          "name": "stdout",
          "text": "나이를 입력하세요.16\n올해 나이는 16세 입니다.\n내년의 나이는 17세 입니다.\n"
        }
      ]
    },
    {
      "metadata": {
        "trusted": true
      },
      "cell_type": "code",
      "source": "line = \"=\" * 50\nprint(line)",
      "execution_count": 4,
      "outputs": [
        {
          "output_type": "stream",
          "text": "==================================================\n",
          "name": "stdout"
        }
      ]
    },
    {
      "metadata": {
        "trusted": true
      },
      "cell_type": "code",
      "source": "abc = \"Python\"\nprint(abc[2])",
      "execution_count": 5,
      "outputs": [
        {
          "output_type": "stream",
          "text": "t\n",
          "name": "stdout"
        }
      ]
    },
    {
      "metadata": {
        "trusted": true
      },
      "cell_type": "code",
      "source": "print(abc[0:3])",
      "execution_count": 6,
      "outputs": [
        {
          "output_type": "stream",
          "text": "Pyt\n",
          "name": "stdout"
        }
      ]
    },
    {
      "metadata": {
        "trusted": true
      },
      "cell_type": "code",
      "source": "print(abc[-1])",
      "execution_count": 7,
      "outputs": [
        {
          "output_type": "stream",
          "text": "n\n",
          "name": "stdout"
        }
      ]
    },
    {
      "metadata": {
        "trusted": true
      },
      "cell_type": "code",
      "source": "print(abc[:3])",
      "execution_count": 8,
      "outputs": [
        {
          "output_type": "stream",
          "text": "Pyt\n",
          "name": "stdout"
        }
      ]
    },
    {
      "metadata": {
        "trusted": true
      },
      "cell_type": "code",
      "source": "print(abc[-3:-1])",
      "execution_count": 10,
      "outputs": [
        {
          "output_type": "stream",
          "text": "ho\n",
          "name": "stdout"
        }
      ]
    },
    {
      "metadata": {
        "trusted": true
      },
      "cell_type": "code",
      "source": "print(abc[-3:])",
      "execution_count": 11,
      "outputs": [
        {
          "output_type": "stream",
          "text": "hon\n",
          "name": "stdout"
        }
      ]
    },
    {
      "metadata": {
        "trusted": true
      },
      "cell_type": "code",
      "source": "print(\"abc\")\nprint(\"cde\")",
      "execution_count": 12,
      "outputs": [
        {
          "output_type": "stream",
          "text": "abc\ncde\n",
          "name": "stdout"
        }
      ]
    },
    {
      "metadata": {
        "trusted": true
      },
      "cell_type": "code",
      "source": "print(\"abc\\ncde\")",
      "execution_count": 13,
      "outputs": [
        {
          "output_type": "stream",
          "text": "abc\ncde\n",
          "name": "stdout"
        }
      ]
    },
    {
      "metadata": {
        "trusted": true
      },
      "cell_type": "code",
      "source": "print(\"abc\\tcde\")",
      "execution_count": 15,
      "outputs": [
        {
          "output_type": "stream",
          "text": "abc\tcde\n",
          "name": "stdout"
        }
      ]
    },
    {
      "metadata": {
        "trusted": true
      },
      "cell_type": "code",
      "source": "year = input(\"년도를 입력하세요\")\nmonth = input(\"오늘의 월을 입력하세요\")\nday = input(\"오늘의 일을 입력하세요\")\nprint(\"오늘은 \" + year +\"년 \" + month+\"월 \"+ day +\"일 입니다.\")",
      "execution_count": 17,
      "outputs": [
        {
          "output_type": "stream",
          "name": "stdout",
          "text": "년도를 입력하세요2019\n오늘의 월을 입력하세요5\n오늘의 일을 입력하세요17\n오늘은 2019년 5월 17일 입니다.\n"
        }
      ]
    },
    {
      "metadata": {
        "trusted": true
      },
      "cell_type": "code",
      "source": "year = input(\"년도를 입력하세요\")\nmonth = input(\"오늘의 월을 입력하세요\")\nday = input(\"오늘의 일을 입력하세요\")\nprint(month +\"/\" +day+\"/\"+ year)",
      "execution_count": 18,
      "outputs": [
        {
          "output_type": "stream",
          "name": "stdout",
          "text": "년도를 입력하세요2019\n오늘의 월을 입력하세요5\n오늘의 일을 입력하세요17\n5/17/2019\n"
        }
      ]
    },
    {
      "metadata": {
        "trusted": true
      },
      "cell_type": "code",
      "source": "age = int(input(\"나이를 입력하세요\"))\nyear50 = age + 2050-2019\nprint(\"2050년에는 \" + str(year50) +\"세가 됩니다.\")",
      "execution_count": 20,
      "outputs": [
        {
          "output_type": "stream",
          "name": "stdout",
          "text": "나이를 입력하세요15\n2050년에는 46세가 됩니다.\n"
        }
      ]
    },
    {
      "metadata": {
        "trusted": true
      },
      "cell_type": "code",
      "source": "sList =[\"사회\", \"국어\", 21, 15.4]\nprint(sList)",
      "execution_count": 21,
      "outputs": [
        {
          "output_type": "stream",
          "text": "['사회', '국어', 21, 15.4]\n",
          "name": "stdout"
        }
      ]
    },
    {
      "metadata": {
        "trusted": true
      },
      "cell_type": "code",
      "source": "print(sList[0:2])",
      "execution_count": 23,
      "outputs": [
        {
          "output_type": "stream",
          "text": "['사회', '국어']\n",
          "name": "stdout"
        }
      ]
    },
    {
      "metadata": {
        "trusted": true
      },
      "cell_type": "code",
      "source": "sList.append(\"연평중고등학교\")",
      "execution_count": 24,
      "outputs": []
    },
    {
      "metadata": {
        "trusted": true
      },
      "cell_type": "code",
      "source": "sList",
      "execution_count": 25,
      "outputs": [
        {
          "output_type": "execute_result",
          "execution_count": 25,
          "data": {
            "text/plain": "['사회', '국어', 21, 15.4, '연평중고등학교']"
          },
          "metadata": {}
        }
      ]
    },
    {
      "metadata": {
        "trusted": true
      },
      "cell_type": "code",
      "source": "sList.append(6)\nsList.append(7)\nsList.append(8)\nsList.append(9)\n",
      "execution_count": 26,
      "outputs": []
    },
    {
      "metadata": {
        "trusted": true
      },
      "cell_type": "code",
      "source": "sList",
      "execution_count": 27,
      "outputs": [
        {
          "output_type": "execute_result",
          "execution_count": 27,
          "data": {
            "text/plain": "['사회', '국어', 21, 15.4, '연평중고등학교', 6, 7, 8, 9]"
          },
          "metadata": {}
        }
      ]
    },
    {
      "metadata": {
        "trusted": true
      },
      "cell_type": "code",
      "source": "sList[0]",
      "execution_count": 28,
      "outputs": [
        {
          "output_type": "execute_result",
          "execution_count": 28,
          "data": {
            "text/plain": "'사회'"
          },
          "metadata": {}
        }
      ]
    },
    {
      "metadata": {
        "trusted": true
      },
      "cell_type": "code",
      "source": "sList[-1]",
      "execution_count": 29,
      "outputs": [
        {
          "output_type": "execute_result",
          "execution_count": 29,
          "data": {
            "text/plain": "9"
          },
          "metadata": {}
        }
      ]
    },
    {
      "metadata": {
        "trusted": true
      },
      "cell_type": "code",
      "source": "sList[-1:]",
      "execution_count": 31,
      "outputs": [
        {
          "output_type": "execute_result",
          "execution_count": 31,
          "data": {
            "text/plain": "[9]"
          },
          "metadata": {}
        }
      ]
    },
    {
      "metadata": {
        "trusted": true
      },
      "cell_type": "code",
      "source": "my_friend =[]\nfriend = input(\"친구의 이름을 입력하세요.\")\nmy_friend.append(friend)\nfriend = input(\"친구의 이름을 입력하세요.\")\nmy_friend.append(friend)\nfriend = input(\"친구의 이름을 입력하세요.\")\nmy_friend.append(friend)\nfriend = input(\"친구의 이름을 입력하세요.\")\nmy_friend.append(friend)\nfriend = input(\"친구의 이름을 입력하세요.\")\nmy_friend.append(friend)\nfriend = input(\"친구의 이름을 입력하세요.\")\n",
      "execution_count": 32,
      "outputs": [
        {
          "output_type": "stream",
          "name": "stdout",
          "text": "친구의 이름을 입력하세요.홍길동\n친구의 이름을 입력하세요.이순신\n친구의 이름을 입력하세요.강감찬\n친구의 이름을 입력하세요.권율\n친구의 이름을 입력하세요.정약용\n친구의 이름을 입력하세요.김유신\n"
        }
      ]
    },
    {
      "metadata": {
        "trusted": true
      },
      "cell_type": "code",
      "source": "print(my_friend)",
      "execution_count": 33,
      "outputs": [
        {
          "output_type": "stream",
          "text": "['홍길동', '이순신', '강감찬', '권율', '정약용']\n",
          "name": "stdout"
        }
      ]
    },
    {
      "metadata": {
        "trusted": true
      },
      "cell_type": "code",
      "source": "#Pro01\nprint(\"나는 \" + str(12) +\"개의 사과를 먹었다.\")\n",
      "execution_count": 36,
      "outputs": [
        {
          "output_type": "stream",
          "text": "나는 12개의 사과를 먹었다.\n",
          "name": "stdout"
        }
      ]
    },
    {
      "metadata": {
        "trusted": true
      },
      "cell_type": "code",
      "source": "print(\"apple\" + \"grape\")",
      "execution_count": 37,
      "outputs": [
        {
          "output_type": "stream",
          "text": "applegrape\n",
          "name": "stdout"
        }
      ]
    },
    {
      "metadata": {
        "trusted": true
      },
      "cell_type": "code",
      "source": "print(\"apple\" * 3)",
      "execution_count": 38,
      "outputs": [
        {
          "output_type": "stream",
          "text": "appleappleapple\n",
          "name": "stdout"
        }
      ]
    },
    {
      "metadata": {
        "trusted": true
      },
      "cell_type": "code",
      "source": "name = input(\"문자열을 입력하세요\")\ntext = name[0:2] + name[-2:]\nprint(text)",
      "execution_count": 39,
      "outputs": [
        {
          "output_type": "stream",
          "name": "stdout",
          "text": "문자열을 입력하세요python\npyon\n"
        }
      ]
    },
    {
      "metadata": {
        "trusted": true
      },
      "cell_type": "code",
      "source": "job = input(\"문자열을 입력하세요\")\nprint(job + \"하는 중\")",
      "execution_count": 40,
      "outputs": [
        {
          "output_type": "stream",
          "name": "stdout",
          "text": "문자열을 입력하세요청소\n청소하는 중\n"
        }
      ]
    },
    {
      "metadata": {
        "trusted": true
      },
      "cell_type": "code",
      "source": "symbol = input(\"기호를 입력하세요\")\nname = input(\"삽입할 문자를 쓰세요.\")\ntest = symbol[0]+ name +symbol[1]\nprint(test)",
      "execution_count": 41,
      "outputs": [
        {
          "output_type": "stream",
          "name": "stdout",
          "text": "기호를 입력하세요[]\n삽입할 문자를 쓰세요.python\n[python]\n"
        }
      ]
    },
    {
      "metadata": {
        "trusted": true
      },
      "cell_type": "code",
      "source": "alist =[1,2,3,4]\nsum_alist = alist[0] + alist[1] + alist[2] + alist[3]\nprint(\"리스트\", alist)\nprint(\"리스트 숫자들의 합\" , sum_alist)",
      "execution_count": 44,
      "outputs": [
        {
          "output_type": "stream",
          "text": "리스트 [1, 2, 3, 4]\n리스트 숫자들의 합 10\n",
          "name": "stdout"
        }
      ]
    },
    {
      "metadata": {
        "trusted": true
      },
      "cell_type": "code",
      "source": "",
      "execution_count": null,
      "outputs": []
    }
  ],
  "metadata": {
    "kernelspec": {
      "name": "python36",
      "display_name": "Python 3.6",
      "language": "python"
    },
    "language_info": {
      "mimetype": "text/x-python",
      "nbconvert_exporter": "python",
      "name": "python",
      "pygments_lexer": "ipython3",
      "version": "3.6.6",
      "file_extension": ".py",
      "codemirror_mode": {
        "version": 3,
        "name": "ipython"
      }
    }
  },
  "nbformat": 4,
  "nbformat_minor": 2
}