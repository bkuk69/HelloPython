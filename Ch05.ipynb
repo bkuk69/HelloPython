{
  "cells": [
    {
      "metadata": {
        "trusted": true
      },
      "cell_type": "code",
      "source": "a = 3\nif a > 2 :\n    print(\"3이상인 수 입니다.\")",
      "execution_count": 1,
      "outputs": [
        {
          "output_type": "stream",
          "text": "3이상인 수 입니다.\n",
          "name": "stdout"
        }
      ]
    },
    {
      "metadata": {
        "trusted": true
      },
      "cell_type": "code",
      "source": "age = int(input(\"나이를 입력하세요. \"))\nif age >= 19 :\n    print(\"성인입니다. 입장하세요\")\nelif age >=13 :\n    print(\"청소년입니다. 조금만 더 기다려주세요.\")\nelse :\n    print(\"어린이 입니다. 집으로 가세요.\")",
      "execution_count": 11,
      "outputs": [
        {
          "output_type": "stream",
          "name": "stdout",
          "text": "나이를 입력하세요. 9\n어린이 입니다. 집으로 가세요.\n"
        }
      ]
    },
    {
      "metadata": {
        "trusted": true
      },
      "cell_type": "code",
      "source": "score = int(input(\"점수를 입력하세요.\"))\nif(score >= 60):\n    print(\"합격입니다.\")\nelse :\n    print(\"불합격입니다.\")",
      "execution_count": 13,
      "outputs": [
        {
          "output_type": "stream",
          "name": "stdout",
          "text": "점수를 입력하세요.56\n불합격입니다.\n"
        }
      ]
    },
    {
      "metadata": {
        "trusted": true
      },
      "cell_type": "code",
      "source": "number = int(input(\"숫자를 입력하세요.\"))\nif number % 6 == 0 :\n    print(\"6의 배수입니다.\")\nelse :\n    print(\"6의 배수가 아닙니다.\")\nprint(\"감사합니다.\")",
      "execution_count": 19,
      "outputs": [
        {
          "output_type": "stream",
          "name": "stdout",
          "text": "숫자를 입력하세요.156\n6의 배수입니다.\n감사합니다.\n"
        }
      ]
    },
    {
      "metadata": {
        "trusted": true
      },
      "cell_type": "code",
      "source": "year = int(input(\"년도를 입력하세요\"))\nif (year % 4 == 0) and (year %100 != 0) or (year %400 == 0) :\n    print(\"윤년입니다.\")\nelse :\n    print(\"윤년이 아닙니다.\")",
      "execution_count": 22,
      "outputs": [
        {
          "output_type": "stream",
          "name": "stdout",
          "text": "년도를 입력하세요1900\n윤년이 아닙니다.\n"
        }
      ]
    },
    {
      "metadata": {
        "trusted": true
      },
      "cell_type": "code",
      "source": "import random\nprint(\"동전 던지기를 시작합니다.\")\ncoin = random.randrange(2)\nif coin == 0 :\n    print(\"앞면입니다.\")\nelse :\n    print(\"뒷면입니다.\")\nprint(\"게임이 종료되었습니다.\")",
      "execution_count": 1,
      "outputs": [
        {
          "output_type": "stream",
          "text": "동전 던지기를 시작합니다.\n앞면입니다.\n게임이 종료되었습니다.\n",
          "name": "stdout"
        }
      ]
    },
    {
      "metadata": {
        "trusted": true
      },
      "cell_type": "code",
      "source": "import random\n\nprint(\"주사위 던지기를 합니다.\")\ndice = random.randint(1,6)\n\n\nmy_num = int(input(\"숫자를 1~6까지 입력하세요.\"))\n\nif my_num > dice :\n    print(\"당신이 이겼습니다.\")\nelif my_num == dice:\n    print(\"비겼습니다.\")\nelse :\n    print(\"컴퓨터가 이겼습니다.\")\nprint(\"컴퓨터 수\", dice)",
      "execution_count": 4,
      "outputs": [
        {
          "output_type": "stream",
          "text": "주사위 던지기를 합니다.\n숫자를 1~6까지 입력하세요.1\n컴퓨터가 이겼습니다.\n컴퓨터 수 3\n",
          "name": "stdout"
        }
      ]
    },
    {
      "metadata": {
        "trusted": true
      },
      "cell_type": "code",
      "source": "import random\n\ntime = random.randint(1,24)\nsunny = random.choice([True, False])\nprint(\"time :\", time)\nif sunny :\n    print(\"날씨가 화창합니다.\")\nelse :\n    print(\"날씨가 화창하지 않습니다\")\nif time >= 6 and time <= 12 and sunny :\n    print(\"종달새가 노래를 합니다.\")\nelse :\n    print(\"종달새가 노래를 하지 않습니다.\")\n",
      "execution_count": 28,
      "outputs": [
        {
          "output_type": "stream",
          "text": "time : 8\n날씨가 화창합니다.\n종달새가 노래를 합니다.\n",
          "name": "stdout"
        }
      ]
    },
    {
      "metadata": {
        "trusted": true
      },
      "cell_type": "code",
      "source": "id = \"mypython\"\npwd = \"ypms\"\nid_in = input(\"ID를 입력하세요.\")\npwd_in = input(\"암호를 입력하세요\")\n\nif id == id_in and pwd == pwd_in :\n    print(\"로그인 성공\")\nelse :\n    print(\"로그인 실패\")",
      "execution_count": 30,
      "outputs": [
        {
          "output_type": "stream",
          "name": "stdout",
          "text": "ID를 입력하세요.mypython\n암호를 입력하세요ypms\n로그인 성공\n"
        }
      ]
    },
    {
      "metadata": {
        "trusted": true
      },
      "cell_type": "code",
      "source": "import random\ncom = random.choice([\"중앙\",\"왼쪽\",\"오른쪽\"])\n\nuser = input(\"어디를 막으시겠습니까(왼쪽, 중앙, 오른쪽)\")\nif com == user :\n    print(\"노골 수비에 성공하셨습니다.\")\nelse:\n    print(\"골인 수비에 실패하였습니다.\")",
      "execution_count": 33,
      "outputs": [
        {
          "output_type": "stream",
          "name": "stdout",
          "text": "어디를 막으시겠습니까(왼쪽, 중앙, 오른쪽)왼쪽\n골인 수비에 실패하였습니다.\n"
        }
      ]
    },
    {
      "metadata": {
        "trusted": true
      },
      "cell_type": "code",
      "source": "temp = int(input(\"현재 온도를 입력하세요\"))\nif temp >= 25:\n    print(\"반바지를 추천합니다.\")\nelse:\n    print(\"긴바지를 추천합니다.\")",
      "execution_count": 35,
      "outputs": [
        {
          "output_type": "stream",
          "name": "stdout",
          "text": "현재 온도를 입력하세요16\n긴바지를 추천합니다.\n"
        }
      ]
    },
    {
      "metadata": {
        "trusted": true
      },
      "cell_type": "code",
      "source": "#점수를 입력받음\n#90이상 100이하 A학점\n#80이상 90미만 B학점\n#70이상 80미만 C학점\n#60이상 70미만 D학점\n#60미만 F학점\nscore = int(input(\"점수를 입력하세요.\"))\nif score > 100 or score <0 :\n    print(\"점수오류!!\")\nelif score >= 90  :\n    print(\"A학점\")\nelif score >=80 :\n    print(\"B학점\")\nelif score >=70 :\n    print(\"C학점\")\nelif score >=60 :\n    print(\"D학점\")\nelif score <60:\n    print(\"F학점\")",
      "execution_count": 43,
      "outputs": [
        {
          "output_type": "stream",
          "name": "stdout",
          "text": "점수를 입력하세요.-6\n점수오류!!\n"
        }
      ]
    },
    {
      "metadata": {
        "trusted": true
      },
      "cell_type": "code",
      "source": "import random \nfirstNum = random.randint(1,100)\nsecondNum = random.randint(1,100)\n\ns = str(firstNum) + \"-\" + str(secondNum) + \" = \"\n\nmy_in = int(input(s))\nif my_in == (firstNum - secondNum):\n    print(\"정답\")\nelse :\n    print(\"오답\")\n",
      "execution_count": 46,
      "outputs": [
        {
          "output_type": "stream",
          "name": "stdout",
          "text": "53-41 = 21\n오답\n"
        }
      ]
    },
    {
      "metadata": {
        "trusted": true
      },
      "cell_type": "code",
      "source": "import random\n\nlotto_num = random.randint(10, 99)\n\nlotto10 = lotto_num // 10\nlotto1 = lotto_num % 10\n\n\nuser_num = int(input(\"10~99까지의 수를 입력하세요.\"))\nuser10 = user_num // 10\nuser1 = user_num % 10\n\nif lotto_num == user_num :\n    print(\"상금 100만원\")\nelif lotto10 == user10 or lotto1 == user1:\n    print(\"상금 50만원\")\nelse :\n    print(\"상금 0원\")\n",
      "execution_count": 53,
      "outputs": [
        {
          "output_type": "stream",
          "name": "stdout",
          "text": "10~99까지의 수를 입력하세요.74\n상금 0원\n"
        }
      ]
    },
    {
      "metadata": {
        "trusted": true
      },
      "cell_type": "code",
      "source": "for i in range(10):\n    print(\"방문을 환영합니다.\")",
      "execution_count": 55,
      "outputs": [
        {
          "output_type": "stream",
          "text": "방문을 환영합니다.\n방문을 환영합니다.\n방문을 환영합니다.\n방문을 환영합니다.\n방문을 환영합니다.\n방문을 환영합니다.\n방문을 환영합니다.\n방문을 환영합니다.\n방문을 환영합니다.\n방문을 환영합니다.\n",
          "name": "stdout"
        }
      ]
    },
    {
      "metadata": {
        "trusted": true
      },
      "cell_type": "code",
      "source": "for i in [1,2,3,4,5]:\n    print(\"방문을 환영합니다.\")",
      "execution_count": 56,
      "outputs": [
        {
          "output_type": "stream",
          "text": "방문을 환영합니다.\n방문을 환영합니다.\n방문을 환영합니다.\n방문을 환영합니다.\n방문을 환영합니다.\n",
          "name": "stdout"
        }
      ]
    },
    {
      "metadata": {
        "trusted": true
      },
      "cell_type": "code",
      "source": "for i in [1,2,3,4,5]:\n    print(i, \"번째 방문을 환영합니다.\")",
      "execution_count": 57,
      "outputs": [
        {
          "output_type": "stream",
          "text": "1 번째 방문을 환영합니다.\n2 번째 방문을 환영합니다.\n3 번째 방문을 환영합니다.\n4 번째 방문을 환영합니다.\n5 번째 방문을 환영합니다.\n",
          "name": "stdout"
        }
      ]
    },
    {
      "metadata": {
        "trusted": true
      },
      "cell_type": "code",
      "source": "for i in range(10):\n    print(i+1, \"번째 방문을 환영합니다.\")",
      "execution_count": 60,
      "outputs": [
        {
          "output_type": "stream",
          "text": "1 번째 방문을 환영합니다.\n2 번째 방문을 환영합니다.\n3 번째 방문을 환영합니다.\n4 번째 방문을 환영합니다.\n5 번째 방문을 환영합니다.\n6 번째 방문을 환영합니다.\n7 번째 방문을 환영합니다.\n8 번째 방문을 환영합니다.\n9 번째 방문을 환영합니다.\n10 번째 방문을 환영합니다.\n",
          "name": "stdout"
        }
      ]
    },
    {
      "metadata": {
        "trusted": true
      },
      "cell_type": "code",
      "source": "for i in range(9):\n    print(\"3 *\", i+1, \"=\", (i+1) * 3)",
      "execution_count": 62,
      "outputs": [
        {
          "output_type": "stream",
          "text": "3 * 1 = 3\n3 * 2 = 6\n3 * 3 = 9\n3 * 4 = 12\n3 * 5 = 15\n3 * 6 = 18\n3 * 7 = 21\n3 * 8 = 24\n3 * 9 = 27\n",
          "name": "stdout"
        }
      ]
    },
    {
      "metadata": {
        "trusted": true
      },
      "cell_type": "code",
      "source": "for i in range(1,6,1):\n    print(i, end=\" \")",
      "execution_count": 64,
      "outputs": [
        {
          "output_type": "stream",
          "text": "1 2 3 4 5 ",
          "name": "stdout"
        }
      ]
    },
    {
      "metadata": {
        "trusted": true
      },
      "cell_type": "code",
      "source": "for i in range(1,6,1):\n    print(i)",
      "execution_count": 65,
      "outputs": [
        {
          "output_type": "stream",
          "text": "1\n2\n3\n4\n5\n",
          "name": "stdout"
        }
      ]
    },
    {
      "metadata": {
        "trusted": true
      },
      "cell_type": "code",
      "source": "for i in range(1,10, 1):\n    print(\"3 *\", i ,\"=\",i*3, end=\"\\t\")",
      "execution_count": 69,
      "outputs": [
        {
          "output_type": "stream",
          "text": "3 * 1 = 3\t3 * 2 = 6\t3 * 3 = 9\t3 * 4 = 12\t3 * 5 = 15\t3 * 6 = 18\t3 * 7 = 21\t3 * 8 = 24\t3 * 9 = 27\t",
          "name": "stdout"
        }
      ]
    },
    {
      "metadata": {
        "trusted": true
      },
      "cell_type": "code",
      "source": "n = int(input(\"정수를 입력하세요.\"))\nfact = 1\nfor i in range(1, n+1):\n    fact = fact * i\nprint(n,\"!은 \", fact, \"입니다.\")",
      "execution_count": 72,
      "outputs": [
        {
          "output_type": "stream",
          "name": "stdout",
          "text": "정수를 입력하세요.6\n6 !은  720 입니다.\n"
        }
      ]
    },
    {
      "metadata": {
        "trusted": true
      },
      "cell_type": "code",
      "source": "for dan in range(2,10):\n    for i in range(1,10):\n        print(dan,\"*\", i,\"=\",dan*i, end=\"\\t\")\n    print()",
      "execution_count": 75,
      "outputs": [
        {
          "output_type": "stream",
          "text": "2 * 1 = 2\t2 * 2 = 4\t2 * 3 = 6\t2 * 4 = 8\t2 * 5 = 10\t2 * 6 = 12\t2 * 7 = 14\t2 * 8 = 16\t2 * 9 = 18\t\n3 * 1 = 3\t3 * 2 = 6\t3 * 3 = 9\t3 * 4 = 12\t3 * 5 = 15\t3 * 6 = 18\t3 * 7 = 21\t3 * 8 = 24\t3 * 9 = 27\t\n4 * 1 = 4\t4 * 2 = 8\t4 * 3 = 12\t4 * 4 = 16\t4 * 5 = 20\t4 * 6 = 24\t4 * 7 = 28\t4 * 8 = 32\t4 * 9 = 36\t\n5 * 1 = 5\t5 * 2 = 10\t5 * 3 = 15\t5 * 4 = 20\t5 * 5 = 25\t5 * 6 = 30\t5 * 7 = 35\t5 * 8 = 40\t5 * 9 = 45\t\n6 * 1 = 6\t6 * 2 = 12\t6 * 3 = 18\t6 * 4 = 24\t6 * 5 = 30\t6 * 6 = 36\t6 * 7 = 42\t6 * 8 = 48\t6 * 9 = 54\t\n7 * 1 = 7\t7 * 2 = 14\t7 * 3 = 21\t7 * 4 = 28\t7 * 5 = 35\t7 * 6 = 42\t7 * 7 = 49\t7 * 8 = 56\t7 * 9 = 63\t\n8 * 1 = 8\t8 * 2 = 16\t8 * 3 = 24\t8 * 4 = 32\t8 * 5 = 40\t8 * 6 = 48\t8 * 7 = 56\t8 * 8 = 64\t8 * 9 = 72\t\n9 * 1 = 9\t9 * 2 = 18\t9 * 3 = 27\t9 * 4 = 36\t9 * 5 = 45\t9 * 6 = 54\t9 * 7 = 63\t9 * 8 = 72\t9 * 9 = 81\t\n",
          "name": "stdout"
        }
      ]
    },
    {
      "metadata": {
        "trusted": true
      },
      "cell_type": "code",
      "source": "sumAll = 0 #합계저장하는 변수\nfor i in range(1,11):\n    sumAll += i #sumAll = sumAll + i\nprint(\"결과 :\" , sumAll)",
      "execution_count": 76,
      "outputs": [
        {
          "output_type": "stream",
          "text": "결과 : 55\n",
          "name": "stdout"
        }
      ]
    },
    {
      "metadata": {
        "trusted": true
      },
      "cell_type": "code",
      "source": "# 1부터 더해서 50이 넘어가면 스톱하는 프로그램을 만들어 보시오.\nsumAll = 0 #합계를 저장하는 공간\ncount = 1 #1부터 더하는 수\nwhile sumAll <= 100:\n    sumAll += count #sumAll = sumAll + count\n    print(count, \":\", sumAll)\n    count += 1\nprint(count)",
      "execution_count": 79,
      "outputs": [
        {
          "output_type": "stream",
          "text": "1 : 1\n2 : 3\n3 : 6\n4 : 10\n5 : 15\n6 : 21\n7 : 28\n8 : 36\n9 : 45\n10 : 55\n11 : 66\n12 : 78\n13 : 91\n14 : 105\n15\n",
          "name": "stdout"
        }
      ]
    },
    {
      "metadata": {
        "trusted": true
      },
      "cell_type": "code",
      "source": "com_id = \"mypython\"\ncom_pwd =\"ypms\"\nuser_id = input(\"사용자 ID를 입력하세요.\")\nuser_pwd = input(\"사용자 암호를 입력하세요.\")\ncount = 1\nwhile com_id != user_id or com_pwd != user_pwd:\n    print(\"사용자 인증 실패\")\n    user_id = input(\"사용자 ID를 입력하세요.\")\n    user_pwd = input(\"사용자 암호를 입력하세요.\")\n    count += 1\nprint(count, \"번 만에 로그인 성공\")",
      "execution_count": 82,
      "outputs": [
        {
          "output_type": "stream",
          "name": "stdout",
          "text": "사용자 ID를 입력하세요.fdsfd\n사용자 암호를 입력하세요.dffa\n사용자 인증 실패\n사용자 ID를 입력하세요.mypython\n사용자 암호를 입력하세요.ypms\n2 번 만에 로그인 성공\n"
        }
      ]
    },
    {
      "metadata": {
        "trusted": true
      },
      "cell_type": "code",
      "source": "sumAll = 0\nb = \"yes\"\ncount = 0\nwhile b ==\"yes\":\n    a = int(input(\"숫자를 입력하세요.\"))\n    sumAll += a\n    b = input(\"계속할까요?(yes/no)\")\n    count += 1\nprint(\"합계:\", sumAll)\nprint(\"평균:\", sumAll/count)",
      "execution_count": 87,
      "outputs": [
        {
          "output_type": "stream",
          "name": "stdout",
          "text": "숫자를 입력하세요.6\n계속할까요?(yes/no)a\n합계: 6\n평균: 6.0\n"
        }
      ]
    },
    {
      "metadata": {
        "trusted": true
      },
      "cell_type": "code",
      "source": "import random\ncomp_num = random.randint(1,100)\n#print(comp_num)\nuser_num = 0 \ncount = 0\nwhile comp_num != user_num :\n    user_num = int(input(\"숫자를 입력하세요.\"))\n    count += 1\n    if user_num > comp_num :\n        print(\"숫자가 큽니다. 작은 수를 입력하세요.\")\n    elif user_num < comp_num:\n        print(\"숫자가 작습니다. 큰수를 입력하세요.\")\nprint(\"축하합니다. 정답\")\nprint(\"시도횟수 :\" ,count)",
      "execution_count": 91,
      "outputs": [
        {
          "output_type": "stream",
          "name": "stdout",
          "text": "숫자를 입력하세요.50\n숫자가 큽니다. 작은 수를 입력하세요.\n숫자를 입력하세요.25\n숫자가 작습니다. 큰수를 입력하세요.\n숫자를 입력하세요.37\n숫자가 작습니다. 큰수를 입력하세요.\n숫자를 입력하세요.42\n숫자가 작습니다. 큰수를 입력하세요.\n숫자를 입력하세요.48\n숫자가 큽니다. 작은 수를 입력하세요.\n숫자를 입력하세요.45\n숫자가 작습니다. 큰수를 입력하세요.\n숫자를 입력하세요.46\n축하합니다. 정답\n시도횟수 : 7\n"
        }
      ]
    },
    {
      "metadata": {
        "trusted": true
      },
      "cell_type": "code",
      "source": "import random\n\ncount = 0\nwhile True:\n    firstNum = random.randint(1,100)\n    secondNum = random.randint(1,100)\n    s = str(firstNum) + \" + \" + str(secondNum) + \"=\" \n    user_in = int(input(s))\n    if (firstNum + secondNum) == user_in:\n        print(\"맞았습니다.\")\n        count += 1\n        if count == 3:\n            break\n",
      "execution_count": 98,
      "outputs": [
        {
          "output_type": "error",
          "ename": "KeyboardInterrupt",
          "evalue": "",
          "traceback": [
            "\u001b[0;31m---------------------------------------------------------------------------\u001b[0m",
            "\u001b[0;31mKeyboardInterrupt\u001b[0m                         Traceback (most recent call last)",
            "\u001b[0;32m~/anaconda3_501/lib/python3.6/site-packages/ipykernel/kernelbase.py\u001b[0m in \u001b[0;36m_input_request\u001b[0;34m(self, prompt, ident, parent, password)\u001b[0m\n\u001b[1;32m    877\u001b[0m             \u001b[0;32mtry\u001b[0m\u001b[0;34m:\u001b[0m\u001b[0;34m\u001b[0m\u001b[0m\n\u001b[0;32m--> 878\u001b[0;31m                 \u001b[0mident\u001b[0m\u001b[0;34m,\u001b[0m \u001b[0mreply\u001b[0m \u001b[0;34m=\u001b[0m \u001b[0mself\u001b[0m\u001b[0;34m.\u001b[0m\u001b[0msession\u001b[0m\u001b[0;34m.\u001b[0m\u001b[0mrecv\u001b[0m\u001b[0;34m(\u001b[0m\u001b[0mself\u001b[0m\u001b[0;34m.\u001b[0m\u001b[0mstdin_socket\u001b[0m\u001b[0;34m,\u001b[0m \u001b[0;36m0\u001b[0m\u001b[0;34m)\u001b[0m\u001b[0;34m\u001b[0m\u001b[0m\n\u001b[0m\u001b[1;32m    879\u001b[0m             \u001b[0;32mexcept\u001b[0m \u001b[0mException\u001b[0m\u001b[0;34m:\u001b[0m\u001b[0;34m\u001b[0m\u001b[0m\n",
            "\u001b[0;32m~/anaconda3_501/lib/python3.6/site-packages/jupyter_client/session.py\u001b[0m in \u001b[0;36mrecv\u001b[0;34m(self, socket, mode, content, copy)\u001b[0m\n\u001b[1;32m    802\u001b[0m         \u001b[0;32mtry\u001b[0m\u001b[0;34m:\u001b[0m\u001b[0;34m\u001b[0m\u001b[0m\n\u001b[0;32m--> 803\u001b[0;31m             \u001b[0mmsg_list\u001b[0m \u001b[0;34m=\u001b[0m \u001b[0msocket\u001b[0m\u001b[0;34m.\u001b[0m\u001b[0mrecv_multipart\u001b[0m\u001b[0;34m(\u001b[0m\u001b[0mmode\u001b[0m\u001b[0;34m,\u001b[0m \u001b[0mcopy\u001b[0m\u001b[0;34m=\u001b[0m\u001b[0mcopy\u001b[0m\u001b[0;34m)\u001b[0m\u001b[0;34m\u001b[0m\u001b[0m\n\u001b[0m\u001b[1;32m    804\u001b[0m         \u001b[0;32mexcept\u001b[0m \u001b[0mzmq\u001b[0m\u001b[0;34m.\u001b[0m\u001b[0mZMQError\u001b[0m \u001b[0;32mas\u001b[0m \u001b[0me\u001b[0m\u001b[0;34m:\u001b[0m\u001b[0;34m\u001b[0m\u001b[0m\n",
            "\u001b[0;32m~/anaconda3_501/lib/python3.6/site-packages/zmq/sugar/socket.py\u001b[0m in \u001b[0;36mrecv_multipart\u001b[0;34m(self, flags, copy, track)\u001b[0m\n\u001b[1;32m    466\u001b[0m         \"\"\"\n\u001b[0;32m--> 467\u001b[0;31m         \u001b[0mparts\u001b[0m \u001b[0;34m=\u001b[0m \u001b[0;34m[\u001b[0m\u001b[0mself\u001b[0m\u001b[0;34m.\u001b[0m\u001b[0mrecv\u001b[0m\u001b[0;34m(\u001b[0m\u001b[0mflags\u001b[0m\u001b[0;34m,\u001b[0m \u001b[0mcopy\u001b[0m\u001b[0;34m=\u001b[0m\u001b[0mcopy\u001b[0m\u001b[0;34m,\u001b[0m \u001b[0mtrack\u001b[0m\u001b[0;34m=\u001b[0m\u001b[0mtrack\u001b[0m\u001b[0;34m)\u001b[0m\u001b[0;34m]\u001b[0m\u001b[0;34m\u001b[0m\u001b[0m\n\u001b[0m\u001b[1;32m    468\u001b[0m         \u001b[0;31m# have first part already, only loop while more to receive\u001b[0m\u001b[0;34m\u001b[0m\u001b[0;34m\u001b[0m\u001b[0m\n",
            "\u001b[0;32mzmq/backend/cython/socket.pyx\u001b[0m in \u001b[0;36mzmq.backend.cython.socket.Socket.recv\u001b[0;34m()\u001b[0m\n",
            "\u001b[0;32mzmq/backend/cython/socket.pyx\u001b[0m in \u001b[0;36mzmq.backend.cython.socket.Socket.recv\u001b[0;34m()\u001b[0m\n",
            "\u001b[0;32mzmq/backend/cython/socket.pyx\u001b[0m in \u001b[0;36mzmq.backend.cython.socket._recv_copy\u001b[0;34m()\u001b[0m\n",
            "\u001b[0;32m~/anaconda3_501/lib/python3.6/site-packages/zmq/backend/cython/checkrc.pxd\u001b[0m in \u001b[0;36mzmq.backend.cython.checkrc._check_rc\u001b[0;34m()\u001b[0m\n",
            "\u001b[0;31mKeyboardInterrupt\u001b[0m: ",
            "\nDuring handling of the above exception, another exception occurred:\n",
            "\u001b[0;31mKeyboardInterrupt\u001b[0m                         Traceback (most recent call last)",
            "\u001b[0;32m<ipython-input-98-b80bd66ba0fa>\u001b[0m in \u001b[0;36m<module>\u001b[0;34m\u001b[0m\n\u001b[1;32m      6\u001b[0m     \u001b[0msecondNum\u001b[0m \u001b[0;34m=\u001b[0m \u001b[0mrandom\u001b[0m\u001b[0;34m.\u001b[0m\u001b[0mrandint\u001b[0m\u001b[0;34m(\u001b[0m\u001b[0;36m1\u001b[0m\u001b[0;34m,\u001b[0m\u001b[0;36m100\u001b[0m\u001b[0;34m)\u001b[0m\u001b[0;34m\u001b[0m\u001b[0m\n\u001b[1;32m      7\u001b[0m     \u001b[0ms\u001b[0m \u001b[0;34m=\u001b[0m \u001b[0mstr\u001b[0m\u001b[0;34m(\u001b[0m\u001b[0mfirstNum\u001b[0m\u001b[0;34m)\u001b[0m \u001b[0;34m+\u001b[0m \u001b[0;34m\" + \"\u001b[0m \u001b[0;34m+\u001b[0m \u001b[0mstr\u001b[0m\u001b[0;34m(\u001b[0m\u001b[0msecondNum\u001b[0m\u001b[0;34m)\u001b[0m \u001b[0;34m+\u001b[0m \u001b[0;34m\"=\"\u001b[0m\u001b[0;34m\u001b[0m\u001b[0m\n\u001b[0;32m----> 8\u001b[0;31m     \u001b[0muser_in\u001b[0m \u001b[0;34m=\u001b[0m \u001b[0mint\u001b[0m\u001b[0;34m(\u001b[0m\u001b[0minput\u001b[0m\u001b[0;34m(\u001b[0m\u001b[0ms\u001b[0m\u001b[0;34m)\u001b[0m\u001b[0;34m)\u001b[0m\u001b[0;34m\u001b[0m\u001b[0m\n\u001b[0m\u001b[1;32m      9\u001b[0m     \u001b[0;32mif\u001b[0m \u001b[0;34m(\u001b[0m\u001b[0mfirstNum\u001b[0m \u001b[0;34m+\u001b[0m \u001b[0msecondNum\u001b[0m\u001b[0;34m)\u001b[0m \u001b[0;34m==\u001b[0m \u001b[0muser_in\u001b[0m\u001b[0;34m:\u001b[0m\u001b[0;34m\u001b[0m\u001b[0m\n\u001b[1;32m     10\u001b[0m         \u001b[0mprint\u001b[0m\u001b[0;34m(\u001b[0m\u001b[0;34m\"맞았습니다.\"\u001b[0m\u001b[0;34m)\u001b[0m\u001b[0;34m\u001b[0m\u001b[0m\n",
            "\u001b[0;32m~/anaconda3_501/lib/python3.6/site-packages/ipykernel/kernelbase.py\u001b[0m in \u001b[0;36mraw_input\u001b[0;34m(self, prompt)\u001b[0m\n\u001b[1;32m    851\u001b[0m             \u001b[0mself\u001b[0m\u001b[0;34m.\u001b[0m\u001b[0m_parent_ident\u001b[0m\u001b[0;34m,\u001b[0m\u001b[0;34m\u001b[0m\u001b[0m\n\u001b[1;32m    852\u001b[0m             \u001b[0mself\u001b[0m\u001b[0;34m.\u001b[0m\u001b[0m_parent_header\u001b[0m\u001b[0;34m,\u001b[0m\u001b[0;34m\u001b[0m\u001b[0m\n\u001b[0;32m--> 853\u001b[0;31m             \u001b[0mpassword\u001b[0m\u001b[0;34m=\u001b[0m\u001b[0;32mFalse\u001b[0m\u001b[0;34m,\u001b[0m\u001b[0;34m\u001b[0m\u001b[0m\n\u001b[0m\u001b[1;32m    854\u001b[0m         )\n\u001b[1;32m    855\u001b[0m \u001b[0;34m\u001b[0m\u001b[0m\n",
            "\u001b[0;32m~/anaconda3_501/lib/python3.6/site-packages/ipykernel/kernelbase.py\u001b[0m in \u001b[0;36m_input_request\u001b[0;34m(self, prompt, ident, parent, password)\u001b[0m\n\u001b[1;32m    881\u001b[0m             \u001b[0;32mexcept\u001b[0m \u001b[0mKeyboardInterrupt\u001b[0m\u001b[0;34m:\u001b[0m\u001b[0;34m\u001b[0m\u001b[0m\n\u001b[1;32m    882\u001b[0m                 \u001b[0;31m# re-raise KeyboardInterrupt, to truncate traceback\u001b[0m\u001b[0;34m\u001b[0m\u001b[0;34m\u001b[0m\u001b[0m\n\u001b[0;32m--> 883\u001b[0;31m                 \u001b[0;32mraise\u001b[0m \u001b[0mKeyboardInterrupt\u001b[0m\u001b[0;34m\u001b[0m\u001b[0m\n\u001b[0m\u001b[1;32m    884\u001b[0m             \u001b[0;32melse\u001b[0m\u001b[0;34m:\u001b[0m\u001b[0;34m\u001b[0m\u001b[0m\n\u001b[1;32m    885\u001b[0m                 \u001b[0;32mbreak\u001b[0m\u001b[0;34m\u001b[0m\u001b[0m\n",
            "\u001b[0;31mKeyboardInterrupt\u001b[0m: "
          ]
        }
      ]
    },
    {
      "metadata": {
        "trusted": true
      },
      "cell_type": "code",
      "source": "breads = [\"호밀빵\",\"위트\",\"화이트\"]\nmeats = [\"미트볼\",\"소시지\",\"닭가슴살\"]\nvegis = [\"양상추\",\"토마토\",\"오이\"]\nsauces =[\"마요네즈\",\"허니 머스터드\",\"칠리\"]\nfor b in breads:\n    for m in meats:\n        for v in vegis:\n            for s in sauces:\n                print(b + \" + \" + m + \" + \" + v + \" + \" + s )",
      "execution_count": 100,
      "outputs": [
        {
          "output_type": "stream",
          "text": "호밀빵 + 미트볼 + 양상추 + 마요네즈\n호밀빵 + 미트볼 + 양상추 + 허니 머스터드\n호밀빵 + 미트볼 + 양상추 + 칠리\n호밀빵 + 미트볼 + 토마토 + 마요네즈\n호밀빵 + 미트볼 + 토마토 + 허니 머스터드\n호밀빵 + 미트볼 + 토마토 + 칠리\n호밀빵 + 미트볼 + 오이 + 마요네즈\n호밀빵 + 미트볼 + 오이 + 허니 머스터드\n호밀빵 + 미트볼 + 오이 + 칠리\n호밀빵 + 소시지 + 양상추 + 마요네즈\n호밀빵 + 소시지 + 양상추 + 허니 머스터드\n호밀빵 + 소시지 + 양상추 + 칠리\n호밀빵 + 소시지 + 토마토 + 마요네즈\n호밀빵 + 소시지 + 토마토 + 허니 머스터드\n호밀빵 + 소시지 + 토마토 + 칠리\n호밀빵 + 소시지 + 오이 + 마요네즈\n호밀빵 + 소시지 + 오이 + 허니 머스터드\n호밀빵 + 소시지 + 오이 + 칠리\n호밀빵 + 닭가슴살 + 양상추 + 마요네즈\n호밀빵 + 닭가슴살 + 양상추 + 허니 머스터드\n호밀빵 + 닭가슴살 + 양상추 + 칠리\n호밀빵 + 닭가슴살 + 토마토 + 마요네즈\n호밀빵 + 닭가슴살 + 토마토 + 허니 머스터드\n호밀빵 + 닭가슴살 + 토마토 + 칠리\n호밀빵 + 닭가슴살 + 오이 + 마요네즈\n호밀빵 + 닭가슴살 + 오이 + 허니 머스터드\n호밀빵 + 닭가슴살 + 오이 + 칠리\n위트 + 미트볼 + 양상추 + 마요네즈\n위트 + 미트볼 + 양상추 + 허니 머스터드\n위트 + 미트볼 + 양상추 + 칠리\n위트 + 미트볼 + 토마토 + 마요네즈\n위트 + 미트볼 + 토마토 + 허니 머스터드\n위트 + 미트볼 + 토마토 + 칠리\n위트 + 미트볼 + 오이 + 마요네즈\n위트 + 미트볼 + 오이 + 허니 머스터드\n위트 + 미트볼 + 오이 + 칠리\n위트 + 소시지 + 양상추 + 마요네즈\n위트 + 소시지 + 양상추 + 허니 머스터드\n위트 + 소시지 + 양상추 + 칠리\n위트 + 소시지 + 토마토 + 마요네즈\n위트 + 소시지 + 토마토 + 허니 머스터드\n위트 + 소시지 + 토마토 + 칠리\n위트 + 소시지 + 오이 + 마요네즈\n위트 + 소시지 + 오이 + 허니 머스터드\n위트 + 소시지 + 오이 + 칠리\n위트 + 닭가슴살 + 양상추 + 마요네즈\n위트 + 닭가슴살 + 양상추 + 허니 머스터드\n위트 + 닭가슴살 + 양상추 + 칠리\n위트 + 닭가슴살 + 토마토 + 마요네즈\n위트 + 닭가슴살 + 토마토 + 허니 머스터드\n위트 + 닭가슴살 + 토마토 + 칠리\n위트 + 닭가슴살 + 오이 + 마요네즈\n위트 + 닭가슴살 + 오이 + 허니 머스터드\n위트 + 닭가슴살 + 오이 + 칠리\n화이트 + 미트볼 + 양상추 + 마요네즈\n화이트 + 미트볼 + 양상추 + 허니 머스터드\n화이트 + 미트볼 + 양상추 + 칠리\n화이트 + 미트볼 + 토마토 + 마요네즈\n화이트 + 미트볼 + 토마토 + 허니 머스터드\n화이트 + 미트볼 + 토마토 + 칠리\n화이트 + 미트볼 + 오이 + 마요네즈\n화이트 + 미트볼 + 오이 + 허니 머스터드\n화이트 + 미트볼 + 오이 + 칠리\n화이트 + 소시지 + 양상추 + 마요네즈\n화이트 + 소시지 + 양상추 + 허니 머스터드\n화이트 + 소시지 + 양상추 + 칠리\n화이트 + 소시지 + 토마토 + 마요네즈\n화이트 + 소시지 + 토마토 + 허니 머스터드\n화이트 + 소시지 + 토마토 + 칠리\n화이트 + 소시지 + 오이 + 마요네즈\n화이트 + 소시지 + 오이 + 허니 머스터드\n화이트 + 소시지 + 오이 + 칠리\n화이트 + 닭가슴살 + 양상추 + 마요네즈\n화이트 + 닭가슴살 + 양상추 + 허니 머스터드\n화이트 + 닭가슴살 + 양상추 + 칠리\n화이트 + 닭가슴살 + 토마토 + 마요네즈\n화이트 + 닭가슴살 + 토마토 + 허니 머스터드\n화이트 + 닭가슴살 + 토마토 + 칠리\n화이트 + 닭가슴살 + 오이 + 마요네즈\n화이트 + 닭가슴살 + 오이 + 허니 머스터드\n화이트 + 닭가슴살 + 오이 + 칠리\n",
          "name": "stdout"
        }
      ]
    },
    {
      "metadata": {
        "trusted": true
      },
      "cell_type": "code",
      "source": "#Pro01\nfor i in range(2,101):\n    if i % 7 == 0:\n        print(i, end=\" \")",
      "execution_count": 104,
      "outputs": [
        {
          "output_type": "stream",
          "text": "7 14 21 28 35 42 49 56 63 70 77 84 91 98 ",
          "name": "stdout"
        }
      ]
    },
    {
      "metadata": {
        "trusted": true
      },
      "cell_type": "code",
      "source": "year = 0\nbalance = 1000\nwhile balance <= 2000:\n    year = year + 1\n    interest = balance * 0.07\n    balance += interest\nprint(year,\"년 걸렸습니다.\")\nprint(balance,\"만원\")",
      "execution_count": 110,
      "outputs": [
        {
          "output_type": "stream",
          "text": "11 년 걸렸습니다.\n2104.851952299835 만원\n",
          "name": "stdout"
        }
      ]
    },
    {
      "metadata": {
        "trusted": true
      },
      "cell_type": "code",
      "source": "for dan in range(2,10):\n    for i in range(1,10):\n        if i == 6:\n            break\n        print(dan,\"*\", i,\"=\",dan*i, end=\"\\t\")\n    print()",
      "execution_count": 111,
      "outputs": [
        {
          "output_type": "stream",
          "text": "2 * 1 = 2\t2 * 2 = 4\t2 * 3 = 6\t2 * 4 = 8\t2 * 5 = 10\t\n3 * 1 = 3\t3 * 2 = 6\t3 * 3 = 9\t3 * 4 = 12\t3 * 5 = 15\t\n4 * 1 = 4\t4 * 2 = 8\t4 * 3 = 12\t4 * 4 = 16\t4 * 5 = 20\t\n5 * 1 = 5\t5 * 2 = 10\t5 * 3 = 15\t5 * 4 = 20\t5 * 5 = 25\t\n6 * 1 = 6\t6 * 2 = 12\t6 * 3 = 18\t6 * 4 = 24\t6 * 5 = 30\t\n7 * 1 = 7\t7 * 2 = 14\t7 * 3 = 21\t7 * 4 = 28\t7 * 5 = 35\t\n8 * 1 = 8\t8 * 2 = 16\t8 * 3 = 24\t8 * 4 = 32\t8 * 5 = 40\t\n9 * 1 = 9\t9 * 2 = 18\t9 * 3 = 27\t9 * 4 = 36\t9 * 5 = 45\t\n",
          "name": "stdout"
        }
      ]
    },
    {
      "metadata": {
        "trusted": true
      },
      "cell_type": "code",
      "source": "for dan in range(2,10):\n    for i in range(1,10):\n        if i == 5:\n            continue\n        print(dan,\"*\", i,\"=\",dan*i, end=\"\\t\")\n    print()",
      "execution_count": 112,
      "outputs": [
        {
          "output_type": "stream",
          "text": "2 * 1 = 2\t2 * 2 = 4\t2 * 3 = 6\t2 * 4 = 8\t2 * 6 = 12\t2 * 7 = 14\t2 * 8 = 16\t2 * 9 = 18\t\n3 * 1 = 3\t3 * 2 = 6\t3 * 3 = 9\t3 * 4 = 12\t3 * 6 = 18\t3 * 7 = 21\t3 * 8 = 24\t3 * 9 = 27\t\n4 * 1 = 4\t4 * 2 = 8\t4 * 3 = 12\t4 * 4 = 16\t4 * 6 = 24\t4 * 7 = 28\t4 * 8 = 32\t4 * 9 = 36\t\n5 * 1 = 5\t5 * 2 = 10\t5 * 3 = 15\t5 * 4 = 20\t5 * 6 = 30\t5 * 7 = 35\t5 * 8 = 40\t5 * 9 = 45\t\n6 * 1 = 6\t6 * 2 = 12\t6 * 3 = 18\t6 * 4 = 24\t6 * 6 = 36\t6 * 7 = 42\t6 * 8 = 48\t6 * 9 = 54\t\n7 * 1 = 7\t7 * 2 = 14\t7 * 3 = 21\t7 * 4 = 28\t7 * 6 = 42\t7 * 7 = 49\t7 * 8 = 56\t7 * 9 = 63\t\n8 * 1 = 8\t8 * 2 = 16\t8 * 3 = 24\t8 * 4 = 32\t8 * 6 = 48\t8 * 7 = 56\t8 * 8 = 64\t8 * 9 = 72\t\n9 * 1 = 9\t9 * 2 = 18\t9 * 3 = 27\t9 * 4 = 36\t9 * 6 = 54\t9 * 7 = 63\t9 * 8 = 72\t9 * 9 = 81\t\n",
          "name": "stdout"
        }
      ]
    },
    {
      "metadata": {
        "trusted": true
      },
      "cell_type": "code",
      "source": "n = int(input(\"구하고 싶은 수를 입력하시오.\"))\nsum = 0\nwhile n > 0 :\n    digit = n % 10\n    sum += digit\n    n = n // 10\nprint(sum)",
      "execution_count": 118,
      "outputs": [
        {
          "output_type": "stream",
          "name": "stdout",
          "text": "구하고 싶은 수를 입력하시오.12\n3\n"
        }
      ]
    },
    {
      "metadata": {
        "trusted": true
      },
      "cell_type": "code",
      "source": "import random\nfirstNum = random.randint(2,10)\nsecondNum = random.randint(2,10)\nwhile True:\n    s = str(firstNum) + \"*\" + str(secondNum) + \"=\"\n    user_in = int(input(s))\n    if (firstNum * secondNum) == user_in:\n        print(\"맞았습니다.\")\n        break\n",
      "execution_count": 121,
      "outputs": [
        {
          "output_type": "stream",
          "name": "stdout",
          "text": "8*2=5\n8*2=4\n8*2=16\n맞았습니다.\n"
        }
      ]
    },
    {
      "metadata": {
        "trusted": true
      },
      "cell_type": "code",
      "source": "sumAll = 0\nwhile True :\n    num = int(input(\"정수를 입력하세요.\"))\n    sumAll += num\n    if num == 0:\n        break\nprint(\"합은\", sumAll,\"입니다.\")",
      "execution_count": 122,
      "outputs": [
        {
          "output_type": "stream",
          "name": "stdout",
          "text": "정수를 입력하세요.6\n정수를 입력하세요.5\n정수를 입력하세요.0\n합은 11 입니다.\n"
        }
      ]
    },
    {
      "metadata": {
        "trusted": true
      },
      "cell_type": "code",
      "source": "import random\nfor i in range(3):\n    first_dice = random.randint(1,6)\n    second_dice = random.randint(1,6)\n    print(\"첫번째 주사위\", first_dice, \"두번째 주사위\", second_dice)",
      "execution_count": 123,
      "outputs": [
        {
          "output_type": "stream",
          "text": "첫번째 주사위 6 두번째 주사위 1\n첫번째 주사위 4 두번째 주사위 2\n첫번째 주사위 4 두번째 주사위 5\n",
          "name": "stdout"
        }
      ]
    },
    {
      "metadata": {
        "trusted": true
      },
      "cell_type": "code",
      "source": "for first in range(1,7):\n    for second in range(1,7):\n        if first + second == 6:\n            print(\"첫번째 주사위:\", first, \"두번째 주사위:\", second)",
      "execution_count": 124,
      "outputs": [
        {
          "output_type": "stream",
          "text": "첫번째 주사위: 1 두번째 주사위: 5\n첫번째 주사위: 2 두번째 주사위: 4\n첫번째 주사위: 3 두번째 주사위: 3\n첫번째 주사위: 4 두번째 주사위: 2\n첫번째 주사위: 5 두번째 주사위: 1\n",
          "name": "stdout"
        }
      ]
    },
    {
      "metadata": {
        "trusted": true
      },
      "cell_type": "code",
      "source": "import random\nnum1 = 0\nnum2 = 0\nnum3 = 0\nnum4 = 0\nnum5 = 0\nnum6 = 0\nfor i in range(100000):\n    com_num = random.randint(1,6)\n    if com_num == 1 :\n        num1 += 1  #num1 = num1+1\n    elif com_num == 2 :\n        num2 += 1  #num1 = num1+1\n    elif com_num == 3 :\n        num3 += 1  #num1 = num1+1\n    elif com_num == 4 :\n        num4 += 1  #num1 = num1+1\n    elif com_num == 5 :\n        num5 += 1  #num1 = num1+1\n    elif com_num == 6 :\n        num6 += 1  #num1 = num1+1\nprint(\"1이 나온 횟수\", num1)\nprint(\"2이 나온 횟수\", num2)\nprint(\"3이 나온 횟수\", num3)\nprint(\"4이 나온 횟수\", num4)\nprint(\"5이 나온 횟수\", num5)\nprint(\"6이 나온 횟수\", num6)",
      "execution_count": 129,
      "outputs": [
        {
          "output_type": "stream",
          "text": "1이 나온 횟수 16802\n2이 나온 횟수 16540\n3이 나온 횟수 16582\n4이 나온 횟수 16794\n5이 나온 횟수 16524\n6이 나온 횟수 16758\n",
          "name": "stdout"
        }
      ]
    },
    {
      "metadata": {
        "trusted": true
      },
      "cell_type": "code",
      "source": "import random\ndice = [0,0,0,0,0,0]\nfor i in range(1000):\n    num = random.randint(1,6)\n    dice[num-1] += 1 # 제일 어려움\nfor i in range(6):\n    print(i+1,\"이 나온 횟수\", dice[i])\n    ",
      "execution_count": 130,
      "outputs": [
        {
          "output_type": "stream",
          "text": "1 이 나온 횟수 147\n2 이 나온 횟수 166\n3 이 나온 횟수 157\n4 이 나온 횟수 168\n5 이 나온 횟수 184\n6 이 나온 횟수 178\n",
          "name": "stdout"
        }
      ]
    },
    {
      "metadata": {
        "trusted": true
      },
      "cell_type": "code",
      "source": "",
      "execution_count": null,
      "outputs": []
    }
  ],
  "metadata": {
    "kernelspec": {
      "name": "python36",
      "display_name": "Python 3.6",
      "language": "python"
    },
    "language_info": {
      "mimetype": "text/x-python",
      "nbconvert_exporter": "python",
      "name": "python",
      "pygments_lexer": "ipython3",
      "version": "3.6.6",
      "file_extension": ".py",
      "codemirror_mode": {
        "version": 3,
        "name": "ipython"
      }
    }
  },
  "nbformat": 4,
  "nbformat_minor": 1
}