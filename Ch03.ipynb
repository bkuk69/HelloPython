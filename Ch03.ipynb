{
  "cells": [
    {
      "metadata": {
        "trusted": true
      },
      "cell_type": "code",
      "source": "print(1+2)",
      "execution_count": 1,
      "outputs": [
        {
          "output_type": "stream",
          "text": "3\n",
          "name": "stdout"
        }
      ]
    },
    {
      "metadata": {
        "trusted": true
      },
      "cell_type": "code",
      "source": "age = int(input(\"나이를 입력하세요.\"))\nprint(\"당신의 나이는 \", age, \"세 이군요.\")\nprint(\"내년의 당신의 나이는\", age + 1, \"세 이군요.\")",
      "execution_count": 2,
      "outputs": [
        {
          "output_type": "stream",
          "name": "stdout",
          "text": "나이를 입력하세요.15\n당신의 나이는  15 세 이군요.\n내년의 당신의 나이는 16 세 이군요.\n"
        }
      ]
    },
    {
      "metadata": {
        "trusted": true
      },
      "cell_type": "code",
      "source": "p = int(input(\"첫번째 수를 입력하세요\"))\nq = int(input(\"두번째 수를 입력하세요.\"))\nprint(\"나눗셈의 몫 :\"  , p//q)\nprint(\"나눗셈의 나머지 :\" , p%q)",
      "execution_count": 3,
      "outputs": [
        {
          "output_type": "stream",
          "name": "stdout",
          "text": "첫번째 수를 입력하세요14051\n두번째 수를 입력하세요.345\n나눗셈의 몫 : 40\n나눗셈의 나머지 : 251\n"
        }
      ]
    },
    {
      "metadata": {
        "trusted": true
      },
      "cell_type": "code",
      "source": "ame_price = 2000\nlatte_price = 3000\ncapu_price = 3500\name_count = int(input(\"아메리카노 판매 개수\"))\nlatte_count = int(input(\"카페라떼 판매 개수\"))\ncapu_count = int(input(\"카푸치노 판매 개수\"))\ntotal_price = ame_price * ame_count + latte_price * latte_count + capu_price * capu_count\nprint(\"총매출액 :\", total_price, \"원 입니다.\")",
      "execution_count": 5,
      "outputs": [
        {
          "output_type": "stream",
          "name": "stdout",
          "text": "아메리카노 판매 개수10\n카페라떼 판매 개수20\n카푸치노 판매 개수30\n총매출액 : 185000 원 입니다.\n"
        }
      ]
    },
    {
      "metadata": {
        "trusted": true
      },
      "cell_type": "code",
      "source": "f_temp = int(input(\"화씨를 입력하세요\"))\nc_temp = (f_temp-32) * 5 / 9\nprint(\"섭씨온도:\", c_temp)",
      "execution_count": 6,
      "outputs": [
        {
          "output_type": "stream",
          "name": "stdout",
          "text": "화씨를 입력하세요100\n섭씨온도: 37.77777777777778\n"
        }
      ]
    },
    {
      "metadata": {
        "trusted": true
      },
      "cell_type": "code",
      "source": "c_temp = int(input(\"섭씨를 입력하세요\"))\nf_temp = c_temp * 9 /5 + 32\nprint(\"화씨온도:\", f_temp)",
      "execution_count": 8,
      "outputs": [
        {
          "output_type": "stream",
          "name": "stdout",
          "text": "섭씨를 입력하세요37\n화씨온도: 98.6\n"
        }
      ]
    },
    {
      "metadata": {
        "trusted": true
      },
      "cell_type": "code",
      "source": "height = float(input(\"키를 미터로 입력하세요\"))\nweight = float(input(\"몸무게를 kg으로 입력하세요\"))\nbmi = weight /(height * height)\nprint(\"BMI지수 :\" , bmi)\n",
      "execution_count": 9,
      "outputs": [
        {
          "output_type": "stream",
          "name": "stdout",
          "text": "키를 미터로 입력하세요1.73\n몸무게를 kg으로 입력하세요74\nBMI지수 : 24.725182932941294\n"
        }
      ]
    },
    {
      "metadata": {
        "trusted": true
      },
      "cell_type": "code",
      "source": "input_money = int(input(\"투입한 돈 :\"))\nprice = int(input(\"물건값:\"))\nchange = input_money - price\nprint(\"거스름돈 : \" , change)\ncoin500 = change // 500\ncoin100 = (change % 500)//100\nprint(\"500원짜리 동전 :\" , coin500)\nprint(\"100원짜리 동전 :\" , coin100)",
      "execution_count": 10,
      "outputs": [
        {
          "output_type": "stream",
          "name": "stdout",
          "text": "투입한 돈 :5000\n물건값:2600\n거스름돈 :  2400\n500원짜리 동전 : 4\n100원짜리 동전 : 4\n"
        }
      ]
    },
    {
      "metadata": {
        "trusted": true
      },
      "cell_type": "code",
      "source": "won_money = int(input(\"원금액: \")) #사용자로부터 원금액을 입력받음\nyear = int(input(\"저축기간 : \")) #아아아라랄알아아ㅓ ㅐㅅㄷ젯ㄷㅈㄷ[]ㄹㄷ헌ㅇ러;럴\nrate = float(input(\"이자율 : \"))\ntotal_money = won_money * (1 + rate)**year\nprint(\"원리금 합계 :\", total_money)\n",
      "execution_count": 13,
      "outputs": [
        {
          "output_type": "stream",
          "name": "stdout",
          "text": "원금액: 1000\n저축기간 : 10\n이자율 : 1.25\n원리금 합계 : 3325256.730079651\n"
        }
      ]
    },
    {
      "metadata": {
        "trusted": true
      },
      "cell_type": "code",
      "source": "first_num = int(input(\"첫번째 수:\"))\nsecond_num = int(input(\"두번째 수:\"))\nthird_num = int(input(\"세번째 수:\"))\navg = (first_num + second_num + third_num) / 3\nprint(\"평균: \", avg)",
      "execution_count": 14,
      "outputs": [
        {
          "output_type": "stream",
          "name": "stdout",
          "text": "첫번째 수:10\n두번째 수:20\n세번째 수:30\n평균:  20.0\n"
        }
      ]
    },
    {
      "metadata": {
        "trusted": true
      },
      "cell_type": "code",
      "source": "x = int(input(\"x:\"))\ny = int(input(\"y:\"))\nprint(\"두수의 합:\" , x + y)\nprint(\"두수의 차:\" , x - y)\nprint(\"두수의 곱:\" , x * y)\nprint(\"두수의 평균:\" , (x + y)/2)\nprint(\"두수중 큰수:\" , max(x , y))\nprint(\"두수중 작은수:\" , min(x , y))",
      "execution_count": 15,
      "outputs": [
        {
          "output_type": "stream",
          "name": "stdout",
          "text": "x:45\ny:21\n두수의 합: 66\n두수의 차: 24\n두수의 곱: 945\n두수의 평균: 33.0\n두수중 큰수: 45\n두수중 작은수: 21\n"
        }
      ]
    },
    {
      "metadata": {
        "trusted": true
      },
      "cell_type": "code",
      "source": "r = int(input(\"r:\"))\nh = int(input(\"h:\"))\nv = 3.141592 * r**2 * h\nprint(\"원기둥의 부피:\", v)",
      "execution_count": 16,
      "outputs": [
        {
          "output_type": "stream",
          "name": "stdout",
          "text": "r:10\nh:100\n원기둥의 부피: 31415.92\n"
        }
      ]
    },
    {
      "metadata": {
        "trusted": true
      },
      "cell_type": "code",
      "source": "num = int(input(\"네자리 숫자를 입력하세요.\"))\nnum1000 = num // 1000\nnum100 = (num %1000)//100\nnum10 = (num % 100)//10\nnum1 = num % 10\nresult = num1000 + num100 + num10 + num1\nprint(\"자리수의 합:\", result)",
      "execution_count": 18,
      "outputs": [
        {
          "output_type": "stream",
          "name": "stdout",
          "text": "네자리 숫자를 입력하세요.4561\n자리수의 합: 16\n"
        }
      ]
    },
    {
      "metadata": {
        "trusted": true
      },
      "cell_type": "code",
      "source": "x1 = int(input(\"x1:\"))\ny1 = int(input(\"y1:\"))\nx2 = int(input(\"x2:\"))\ny2 = int(input(\"y2:\"))\ndistance = ((x1-x2)**2 + (y1-y2)**2)**0.5\nprint(\"두점사이의 거리:\", distance)",
      "execution_count": 19,
      "outputs": [
        {
          "output_type": "stream",
          "name": "stdout",
          "text": "x1:0\ny1:0\nx2:100\ny2:100\n두점사이의 거리: 141.4213562373095\n"
        }
      ]
    },
    {
      "metadata": {
        "trusted": true
      },
      "cell_type": "code",
      "source": "import time\nfseconds = time.time()\nprint(fseconds)\nfminutes = fseconds // 60\nprint(fminutes)\ncminutes = int(fminutes % 60)\nprint(cminutes)\nhours = int(fminutes % 24)\nprint(hours)",
      "execution_count": 26,
      "outputs": [
        {
          "output_type": "stream",
          "text": "1558079401.8143675\n25967990.0\n50\n14\n",
          "name": "stdout"
        }
      ]
    },
    {
      "metadata": {
        "trusted": true
      },
      "cell_type": "code",
      "source": "weight = int(input(\"움직이는 물체의 무게를 입력하세요.(kg)\"))\nvelocity = int(input(\"움직이는 물체의 속소를 입력하세요.(m/sec)\"))\nenergy = 1/2 * weight * velocity**2\nprint(\"물체는\", energy,\"(줄)의 에너지를 가지고 있다.\")",
      "execution_count": 27,
      "outputs": [
        {
          "output_type": "stream",
          "name": "stdout",
          "text": "움직이는 물체의 무게를 입력하세요.(kg)10\n움직이는 물체의 속소를 입력하세요.(m/sec)100\n물체는 50000.0 (줄)의 에너지를 가지고 있다.\n"
        }
      ]
    },
    {
      "metadata": {
        "trusted": true
      },
      "cell_type": "code",
      "source": "",
      "execution_count": null,
      "outputs": []
    }
  ],
  "metadata": {
    "kernelspec": {
      "name": "python36",
      "display_name": "Python 3.6",
      "language": "python"
    },
    "language_info": {
      "mimetype": "text/x-python",
      "nbconvert_exporter": "python",
      "name": "python",
      "pygments_lexer": "ipython3",
      "version": "3.6.6",
      "file_extension": ".py",
      "codemirror_mode": {
        "version": 3,
        "name": "ipython"
      }
    }
  },
  "nbformat": 4,
  "nbformat_minor": 2
}